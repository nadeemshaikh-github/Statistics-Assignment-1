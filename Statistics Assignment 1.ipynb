{
 "cells": [
  {
   "cell_type": "markdown",
   "metadata": {},
   "source": [
    "# Statistics Assignment 1"
   ]
  },
  {
   "cell_type": "code",
   "execution_count": 1,
   "metadata": {},
   "outputs": [],
   "source": [
    "import numpy as np\n",
    "import scipy.stats as stats\n",
    "from scipy.integrate import quad\n",
    "import matplotlib.pyplot as plt\n",
    "import seaborn as sns"
   ]
  },
  {
   "cell_type": "markdown",
   "metadata": {},
   "source": [
    "### Calculate the mean, median, mode and standard deviation for the problem statements 1 & 2.\n",
    "\n",
    "\n",
    "## Problem Statement 1:\n",
    "\n",
    "**The marks awarded for an assignment set for a Year 8 class of 20 students were as follows: 6, 7, 5, 7, 7, 8, 7, 6, 9, 7, 4, 10, 6, 8, 8, 9, 5, 6, 4, 8**"
   ]
  },
  {
   "cell_type": "code",
   "execution_count": 15,
   "metadata": {},
   "outputs": [
    {
     "name": "stdout",
     "output_type": "stream",
     "text": [
      "Mean of the data is : 6.85\n",
      "Median of the data is : 7.0\n",
      "Mode of the data is : [7]\n",
      "Standard Deviation of the data is : 1.5898113095584647\n"
     ]
    }
   ],
   "source": [
    "arr = np.array([6,7,5,7,7,8,7,6,9,7,4,10,6,8,8,9,5,6,4,8])\n",
    "mean = np.mean(arr)\n",
    "median = np.median(arr)\n",
    "mode = stats.mode(arr)\n",
    "std = np.std(arr)\n",
    "print('Mean of the data is : {}'.format(mean))\n",
    "print('Median of the data is : {}'.format(median))\n",
    "print('Mode of the data is : {}'.format(mode[0]))\n",
    "print('Standard Deviation of the data is : {}'.format(std))"
   ]
  },
  {
   "cell_type": "markdown",
   "metadata": {},
   "source": [
    "_____"
   ]
  },
  {
   "cell_type": "markdown",
   "metadata": {},
   "source": [
    "## Problem Statement 2:\n",
    "\n",
    "**The number of calls from motorists per day for roadside service was recorded for a\n",
    "particular month:** \n",
    "\n",
    "**28, 122, 217, 130, 120, 86, 80, 90, 140, 120, 70, 40, 145, 113, 90, 68, 174, 194, 170, 100, 75, 104, 97, 75, 123, 100, 75, 104, 97, 75, 123, 100, 89, 120, 109**"
   ]
  },
  {
   "cell_type": "code",
   "execution_count": 25,
   "metadata": {},
   "outputs": [
    {
     "name": "stdout",
     "output_type": "stream",
     "text": [
      "Mean of the data is : 107.51428571428572\n",
      "Median of the data is : 100.0\n",
      "Mode of the data is : [75]\n",
      "Standard Deviation of the data is : 38.77287080168403\n"
     ]
    }
   ],
   "source": [
    "arr = np.array([28, 122, 217, 130, 120, 86, 80, 90, 140, 120, 70, 40, 145, 113, 90, 68, 174, 194, 170, 100, 75, 104, 97, 75, 123, 100, 75, 104, 97, 75, 123, 100, 89, 120, 109])\n",
    "mean = np.mean(arr)\n",
    "median = np.median(arr)\n",
    "mode = stats.mode(arr)\n",
    "std = np.std(arr)\n",
    "print('Mean of the data is : {}'.format(mean))\n",
    "print('Median of the data is : {}'.format(median))\n",
    "print('Mode of the data is : {}'.format(mode[0]))\n",
    "print('Standard Deviation of the data is : {}'.format(std))"
   ]
  },
  {
   "cell_type": "markdown",
   "metadata": {},
   "source": [
    "_____"
   ]
  },
  {
   "cell_type": "markdown",
   "metadata": {},
   "source": [
    "## Problem Statement 3:\n",
    "    \n",
    "**The number of times I go to the gym in weekdays, are given below along with its associated probability:**\n",
    "\n",
    "**x = 0, 1, 2, 3, 4, 5**\n",
    "\n",
    "**f(x) = 0.09, 0.15, 0.40, 0.25, 0.10, 0.01**\n",
    "\n",
    "**Calculate the mean no. of workouts in a week. Also evaluate the variance involved in it.**"
   ]
  },
  {
   "cell_type": "code",
   "execution_count": 26,
   "metadata": {},
   "outputs": [
    {
     "name": "stdout",
     "output_type": "stream",
     "text": [
      "Mean number of workouts in a week are 2.15\n",
      "The variance is 1.2275\n"
     ]
    }
   ],
   "source": [
    "x = [0, 1, 2, 3, 4, 5]\n",
    "p = [0.09, 0.15, 0.40, 0.25, 0.10, 0.01]\n",
    "avg = 0\n",
    "var = 0\n",
    "for i,j in zip(x,p):\n",
    "    avg = avg+i*j\n",
    "for i,j in zip(x,p):\n",
    "    var = var+(((i-avg)**2)*j)\n",
    "print('Mean number of workouts in a week are {}'.format(avg))\n",
    "print('The variance is {}'.format(var))"
   ]
  },
  {
   "cell_type": "markdown",
   "metadata": {},
   "source": [
    "_____"
   ]
  },
  {
   "cell_type": "markdown",
   "metadata": {},
   "source": [
    "## Problem Statement 4:\n",
    "\n",
    "**Let the continuous random variable D denote the diameter of the hole drilled in an aluminum sheet.**\n",
    "\n",
    "**The target diameter to be achieved is 12.5mm.** \n",
    "\n",
    "**Random disturbances in the process often result in inaccuracy.**\n",
    "\n",
    "**Historical data shows that the distribution of D can be modelled by the PDF (𝑑) = 20𝑒−20(𝑑−12.5), 𝑑 ≥ 12.5. If a part \n",
    "with diameter > 12.6 mm needs to be scrapped, what is the proportion of those parts?** \n",
    "\n",
    "**What is the CDF when the diameter is of 11mm?** \n",
    "\n",
    "**What is your conclusion regarding the proportion of scraps?**"
   ]
  },
  {
   "cell_type": "code",
   "execution_count": 30,
   "metadata": {},
   "outputs": [
    {
     "name": "stdout",
     "output_type": "stream",
     "text": [
      "The proportion of the parts with diameter greater than 12.6mm is: 0.13533528323661398\n",
      "The cdf when the diameter is of 11mm is zero\n",
      "The proportion of the parts between 12.5 and 12.6 is : 0.8646647167633718\n",
      "In other words sum of the proportion of the parts between 1.5 and 12.6 and proportion of the parts greater than 12.6 is 1, which indicates that the proportion of the parts less than 12.5 is 0\n"
     ]
    }
   ],
   "source": [
    "def prob_func(d):\n",
    "    return (20*np.exp(-20*(d-12.5)))\n",
    "res = quad(prob_func,a=12.6,b=np.inf)[0]\n",
    "#Integral(PDF(d) with limits 12.6, inf)--P(X>12.6)\n",
    "print('The proportion of the parts with diameter greater than 12.6mm is:', res)\n",
    "#If d<12.5, pdf(d)=0\n",
    "print('The cdf when the diameter is of 11mm is zero')\n",
    "#P(X<12.5)=0\n",
    "res1 = quad(prob_func, a=12.5, b=12.6)[0]\n",
    "print('The proportion of the parts between 12.5 and 12.6 is :', res1)\n",
    "print('In other words sum of the proportion of the parts between 1.5 and 12.6 and proportion of the parts greater than 12.6 is 1, which indicates that the proportion of the parts less than 12.5 is 0')"
   ]
  },
  {
   "cell_type": "markdown",
   "metadata": {},
   "source": [
    "_____"
   ]
  },
  {
   "cell_type": "markdown",
   "metadata": {},
   "source": [
    "## Problem Statement 5:\n",
    "\n",
    "**A company manufactures LED bulbs with a faulty rate of 30%.** \n",
    "\n",
    "**If I randomly select 6 chosen LEDs, what is the probability of having 2 faulty LEDs in my sample?**\n",
    "\n",
    "**Calculate the average value of this process.** \n",
    "\n",
    "**Also evaluate the standard deviation associated with it.**"
   ]
  },
  {
   "cell_type": "code",
   "execution_count": 47,
   "metadata": {},
   "outputs": [
    {
     "name": "stdout",
     "output_type": "stream",
     "text": [
      "The probabilty of finding 2 faulty led is 0.3213\n",
      "Mean of the process is 1.8045\n",
      "Standard deviation of the process is 1.1297255197613267\n"
     ]
    }
   ],
   "source": [
    "fault_rate = 0.3\n",
    "n = 6\n",
    "r = 2\n",
    "trails = 10000\n",
    "binom = np.random.binomial(n, faulty_rate, trails)\n",
    "probability_of_2_faulty = np.sum(binom==2)/10000\n",
    "mean = binom.mean()\n",
    "standard_deviation = binom.std()\n",
    "print('The probabilty of finding 2 faulty led is {}'.format(probability_of_2_faulty))\n",
    "print('Mean of the process is {}'.format(mean))\n",
    "print('Standard deviation of the process is {}'.format(standard_deviation))"
   ]
  },
  {
   "cell_type": "markdown",
   "metadata": {},
   "source": [
    "_____"
   ]
  },
  {
   "cell_type": "markdown",
   "metadata": {},
   "source": [
    "## Problem Statement 6:\n",
    "    \n",
    "**Gaurav and Barakha are both preparing for entrance exams.** \n",
    "\n",
    "**Gaurav attempts to solve 8 questions per day with a correction rate of 75%,** \n",
    "\n",
    "**While Barakha averages around 12 questions per day with a correction rate of 45%.** \n",
    "\n",
    "**What is the probability that each of them will solve 5 questions correctly?** \n",
    "\n",
    "**What happens in cases of 4 and 6 correct solutions?** \n",
    "\n",
    "**What do you infer from it?** \n",
    "\n",
    "**What are the two main governing factors affecting their ability to solve questions correctly?** \n",
    "\n",
    "**Give a pictorial representation of the same to validate your answer.**"
   ]
  },
  {
   "cell_type": "code",
   "execution_count": 60,
   "metadata": {},
   "outputs": [
    {
     "name": "stdout",
     "output_type": "stream",
     "text": [
      "Probability of Gaurav solving 5 question correctly is: 0.2116\n",
      "Probability of Barakha solving 5 question correctly is: 0.2259\n",
      "Probability of Gaurav solving 4 question correctly is: 0.08445\n",
      "Probability of Barakha solving 4 question correctly is: 0.1681\n",
      "Probability of Gaurav solving 6 question correctly is: 0.30465\n",
      "Probability of Barakha solving 6 question correctly is: 0.2109\n"
     ]
    }
   ],
   "source": [
    "gaurav_dist = np.random.binomial(8,0.75,20000)\n",
    "barakha_dist = np.random.binomial(12,0.45,20000)\n",
    "gaurav_prob = []\n",
    "barakha_prob = []\n",
    "for i in range(9):\n",
    "    gaurav_prob.append(np.sum(gaurav_dist==i)/20000)\n",
    "    barakha_prob.append(np.sum(barakha_dist==i)/20000)\n",
    "print('Probability of Gaurav solving 5 question correctly is:',gaurav_prob[5])\n",
    "print('Probability of Barakha solving 5 question correctly is:',barakha_prob[5])\n",
    "print('Probability of Gaurav solving 4 question correctly is:',gaurav_prob[4])\n",
    "print('Probability of Barakha solving 4 question correctly is:',barakha_prob[4])\n",
    "print('Probability of Gaurav solving 6 question correctly is:',gaurav_prob[6])\n",
    "print('Probability of Barakha solving 6 question correctly is:',barakha_prob[6])"
   ]
  },
  {
   "cell_type": "code",
   "execution_count": 66,
   "metadata": {},
   "outputs": [
    {
     "data": {
      "text/plain": [
       "Text(0.5, 1.0, 'Probabilty distribution of Gaurav with p=0.75, n-=8')"
      ]
     },
     "execution_count": 66,
     "metadata": {},
     "output_type": "execute_result"
    },
    {
     "data": {
      "image/png": "[encoded data removed]",
      "text/plain": [
       "<Figure size 432x288 with 1 Axes>"
      ]
     },
     "metadata": {
      "needs_background": "light"
     },
     "output_type": "display_data"
    }
   ],
   "source": [
    "x = [i for i in range(9)]\n",
    "plt.plot(x, gaurav_prob)\n",
    "plt.xlabel('Number of correct questions')\n",
    "plt.ylabel('P(x)')\n",
    "plt.title('Probabilty distribution of Gaurav with p=0.75, n-=8')"
   ]
  },
  {
   "cell_type": "code",
   "execution_count": 67,
   "metadata": {},
   "outputs": [
    {
     "data": {
      "text/plain": [
       "Text(0.5, 1.0, 'Probability distribution of Barakha with p=0.45, n=12')"
      ]
     },
     "execution_count": 67,
     "metadata": {},
     "output_type": "execute_result"
    },
    {
     "data": {
      "image/png": "[encoded data removed]",
      "text/plain": [
       "<Figure size 432x288 with 1 Axes>"
      ]
     },
     "metadata": {
      "needs_background": "light"
     },
     "output_type": "display_data"
    }
   ],
   "source": [
    "plt.plot(x, barakha_prob)\n",
    "plt.xlabel('Number of correct questions')\n",
    "plt.ylabel('P(x)')\n",
    "plt.title('Probability distribution of Barakha with p=0.45, n=12')"
   ]
  },
  {
   "cell_type": "code",
   "execution_count": 70,
   "metadata": {},
   "outputs": [
    {
     "data": {
      "text/plain": [
       "Text(0.5, 1.0, 'Probability distribution of Gaurav & Barakha')"
      ]
     },
     "execution_count": 70,
     "metadata": {},
     "output_type": "execute_result"
    },
    {
     "data": {
      "image/png": "[encoded data removed]",
      "text/plain": [
       "<Figure size 432x288 with 1 Axes>"
      ]
     },
     "metadata": {
      "needs_background": "light"
     },
     "output_type": "display_data"
    }
   ],
   "source": [
    "plt.plot(x,gaurav_prob,label='Gaurav')\n",
    "plt.plot(x,barakha_prob,label='Barakha')\n",
    "plt.xlabel('Number of correct questions')\n",
    "plt.ylabel('P(x)')\n",
    "plt.figlegend()\n",
    "plt.title('Probability distribution of Gaurav & Barakha')"
   ]
  },
  {
   "cell_type": "markdown",
   "metadata": {},
   "source": [
    "_____"
   ]
  },
  {
   "cell_type": "markdown",
   "metadata": {},
   "source": [
    "## Problem Statement 7:\n",
    "\n",
    "**Customers arrive at a rate of 72 per hour to my shop.** \n",
    "\n",
    "**What is the probability of 𝑘 customers arriving in 4 minutes?** \n",
    "\n",
    "**a) 5 customers,** \n",
    "\n",
    "**b) not more than 3 customers,** \n",
    "\n",
    "**c) more than 3 customers.** \n",
    "\n",
    "**Give a pictorial representation of the same to validate your answer.**"
   ]
  },
  {
   "cell_type": "code",
   "execution_count": 99,
   "metadata": {},
   "outputs": [
    {
     "name": "stdout",
     "output_type": "stream",
     "text": [
      "Probability of 5 customer arriving is :0.154\n",
      "Probability of not more than 3 customer is :0.302\n",
      "Probability of more than 3 customer is :0.698\n"
     ]
    },
    {
     "data": {
      "text/plain": [
       "<matplotlib.axes._subplots.AxesSubplot at 0x1ce002e3640>"
      ]
     },
     "execution_count": 99,
     "metadata": {},
     "output_type": "execute_result"
    },
    {
     "data": {
      "image/png": "[encoded data removed]",
      "text/plain": [
       "<Figure size 432x288 with 1 Axes>"
      ]
     },
     "metadata": {
      "needs_background": "light"
     },
     "output_type": "display_data"
    }
   ],
   "source": [
    "mean_4min = (72/60)*4\n",
    "dist = np.random.poisson(mean_4min,1000)\n",
    "prob_5 = np.sum(dist==5)/1000\n",
    "prob_less_than_3 = np.sum(dist<=3)/1000\n",
    "prob_more_than_3 = np.sum(dist>3)/1000\n",
    "print('Probability of 5 customer arriving is :{}'.format(prob_5))\n",
    "print('Probability of not more than 3 customer is :{}'.format(prob_less_than_3))\n",
    "print('Probability of more than 3 customer is :{}'.format(prob_more_than_3))\n",
    "sns.distplot(dist,hist=False,color='red')"
   ]
  },
  {
   "cell_type": "markdown",
   "metadata": {},
   "source": [
    "_____"
   ]
  },
  {
   "cell_type": "markdown",
   "metadata": {},
   "source": [
    "## Problem Statement 8:\n",
    "    \n",
    "**I work as a data analyst in Aeon Learning Pvt. Ltd. After analyzing data, I make reports, where I have the efficiency of entering 77 words per minute with 6 errors per hour.**\n",
    "\n",
    "**What is the probability that I will commit 2 errors in a 455-word financial report?**\n",
    "\n",
    "**What happens when the no. of words increases/decreases (in case of 1000 words, 255 words)?**\n",
    "\n",
    "**How is the 𝜆 affected?**\n",
    "\n",
    "**How does it influence the PMF?**\n",
    "\n",
    "**Give a pictorial representation of the same to validate your answer.**"
   ]
  },
  {
   "cell_type": "code",
   "execution_count": 104,
   "metadata": {},
   "outputs": [
    {
     "data": {
      "text/plain": [
       "Text(0, 0.5, 'Probability of two errors')"
      ]
     },
     "execution_count": 104,
     "metadata": {},
     "output_type": "execute_result"
    },
    {
     "data": {
      "image/png": "[encoded data removed]",
      "text/plain": [
       "<Figure size 432x288 with 1 Axes>"
      ]
     },
     "metadata": {
      "needs_background": "light"
     },
     "output_type": "display_data"
    }
   ],
   "source": [
    "n_errors_per_min = 6/60\n",
    "words = [100, 255, 455, 1000, 1500]\n",
    "prob = []\n",
    "for i in words:\n",
    "    lamda = (i/77)*n_errors_per_min\n",
    "    dist = np.random.poisson(lamda,1000)\n",
    "    prob.append(np.sum(dist==2)/1000)\n",
    "plt.plot(words,prob)\n",
    "plt.xlabel('Number f words')\n",
    "plt.ylabel('Probability of two errors')"
   ]
  },
  {
   "cell_type": "markdown",
   "metadata": {},
   "source": [
    "#### From the above graph we can infer that as the number of words increases, the probability of committing two errors also increases"
   ]
  },
  {
   "cell_type": "markdown",
   "metadata": {},
   "source": [
    "_____"
   ]
  },
  {
   "cell_type": "markdown",
   "metadata": {},
   "source": [
    "## Problem Statement 9:\n",
    "\n",
    "**Let the continuous random variable D denote the diameter of the hole drilled in an aluminum sheet.**\n",
    "\n",
    "**The target diameter to be achieved is 12.5mm.** \n",
    "\n",
    "**Random disturbances in the process often result in inaccuracy.**\n",
    "\n",
    "**Historical data shows that the distribution of D can be modelled by the PDF (𝑑) = 20𝑒−20(𝑑−12.5), 𝑑 ≥ 12.5. If a part \n",
    "with diameter > 12.6 mm needs to be scrapped, what is the proportion of those parts?** \n",
    "\n",
    "**What is the CDF when the diameter is of 11mm?**\n",
    "\n",
    "**What is your conclusion of this experiment?**"
   ]
  },
  {
   "cell_type": "code",
   "execution_count": 105,
   "metadata": {},
   "outputs": [
    {
     "name": "stdout",
     "output_type": "stream",
     "text": [
      "The proportion of the parts with diameter greater than 12.6mm is : 0.13533528323661398\n",
      "The cdf when the diameter is of 11mm is zero\n",
      "The proportion of the parts between 12.5 and 12.6 is: 0.8646647167633718\n",
      "In other words sum of the proportion of the parts between 1.5 and 12.6 and proportion of the parts greater than 12.6 is 1, which indicates that the proportion of the parts less than 12.5 is 0\n"
     ]
    }
   ],
   "source": [
    "def prob_func(d):\n",
    "    return(20*np.exp(-20*(d-12.5)))\n",
    "res = quad(prob_func, a=12.6, b=np.inf)[0]\n",
    "#Integral(PDF(d) with limits 12.6, inf)--p(X>12.6)\n",
    "print('The proportion of the parts with diameter greater than 12.6mm is :',res)\n",
    "#If d<12.5, pdf(d)=0\n",
    "print('The cdf when the diameter is of 11mm is zero')\n",
    "#P(X<12.5)=0\n",
    "res1 = quad(prob_func, a=12.5, b=12.6)[0]\n",
    "print('The proportion of the parts between 12.5 and 12.6 is:', res1)\n",
    "print('In other words sum of the proportion of the parts between 1.5 and 12.6 and proportion of the parts greater than 12.6 is 1, which indicates that the proportion of the parts less than 12.5 is 0')"
   ]
  },
  {
   "cell_type": "markdown",
   "metadata": {},
   "source": [
    "_____"
   ]
  },
  {
   "cell_type": "markdown",
   "metadata": {},
   "source": [
    "## Problem Statement 10:\n",
    "\n",
    "**Please compute the following:**\n",
    "\n",
    "**a) P(Z > 1.26), . P(Z < −0.86), P(Z > −1.37), P(−1.25 < Z < 0.37), . P(Z ≤ −4.6)**\n",
    "\n",
    "**b) Find the value 𝑧 such that 𝑃(𝑍> 𝑧) = 0.05**\n",
    "\n",
    "**c) Find the value of 𝑧 such that 𝑃(−𝑧< 𝑍< 𝑧) = 0.99**"
   ]
  },
  {
   "cell_type": "code",
   "execution_count": 114,
   "metadata": {},
   "outputs": [
    {
     "name": "stdout",
     "output_type": "stream",
     "text": [
      "P(Z > 1.26) : 0.10383468112130045\n",
      "P(Z < -0.86) : 0.1948945212518084\n",
      "P(Z > -1.37) : 0.914656549178033\n",
      "P(-1.25 <Z <0.37) : 0.5386589811336914\n",
      "P(Z ≤ -4.6) : 2.1124547024964357e-06\n",
      "Value z such that P(Z > z) = 0.05 : 1.6448536269514729\n",
      "Value of z such that P(-z <Z <z) : 2.3263478740408408\n"
     ]
    }
   ],
   "source": [
    "print('P(Z > 1.26) :', 1-(stats.norm.cdf(1.26)))\n",
    "print('P(Z < -0.86) :', stats.norm.cdf(-0.86))\n",
    "print('P(Z > -1.37) :', 1-(stats.norm.cdf(-1.37)))\n",
    "print('P(-1.25 <Z <0.37) :',(stats.norm.cdf(0.37)-stats.norm.cdf(-1.25)))\n",
    "print('P(Z ≤ -4.6) :', 1-(stats.norm.cdf(4.6)))\n",
    "print('Value z such that P(Z > z) = 0.05 :', np.absolute(stats.norm.ppf(0.05)))\n",
    "print('Value of z such that P(-z <Z <z) :', stats.norm.ppf(0.99))"
   ]
  },
  {
   "cell_type": "markdown",
   "metadata": {},
   "source": [
    "_____"
   ]
  },
  {
   "cell_type": "markdown",
   "metadata": {},
   "source": [
    "## Problem Statement 11:\n",
    "\n",
    "**The current flow in a copper wire follow a normal distribution with a mean of 10 𝑚A and a variance of 4 (𝑚𝐴)2.** \n",
    "\n",
    "**What is the probability that a current measurement will exceed 13 𝑚𝐴?** \n",
    "\n",
    "**What is the probability that a current measurement is between 9 and 11mA?** \n",
    "\n",
    "**Determine the current measurement which has a probability of 0.98.**"
   ]
  },
  {
   "cell_type": "code",
   "execution_count": 116,
   "metadata": {},
   "outputs": [
    {
     "name": "stdout",
     "output_type": "stream",
     "text": [
      "Probability that a current measurement will exceed 13mA : 0.06680720126885809\n",
      "Probability that a current measurement is between 9 and 11mA : 0.38292492254802624\n",
      "Current measurement which has a probability of 0.98 : 14.107497821263646\n"
     ]
    }
   ],
   "source": [
    "mean = 10\n",
    "std = 2\n",
    "print('Probability that a current measurement will exceed 13mA :', 1-(stats.norm.cdf(x=13,loc=mean,scale=std)))\n",
    "print('Probability that a current measurement is between 9 and 11mA :', (stats.norm.cdf(x=11, loc=mean, scale=std)-stats.norm.cdf(x=9,loc=mean,scale=std)))\n",
    "print('Current measurement which has a probability of 0.98 :', stats.norm.ppf(q=0.98, loc=mean, scale=std))"
   ]
  },
  {
   "cell_type": "markdown",
   "metadata": {},
   "source": [
    "____"
   ]
  },
  {
   "cell_type": "markdown",
   "metadata": {},
   "source": [
    "## Problem Statement 12:\n",
    "\n",
    "**The shaft in a piston has its diameter normally distributed with a mean of 0.2508 inch and a standard deviation of 0.0005 inch.** \n",
    "\n",
    "**The specifications of the shaft are 0.2500 ∓0.0015 inch.** \n",
    "\n",
    "**What proportion of shafts are in sync with the specifications?** \n",
    "\n",
    "**If the process is centered so that the mean is equal to the target value of 0.2500, what proportion of shafts conform to the new specifications?** \n",
    "\n",
    "**What is your conclusion from this experiment?**"
   ]
  },
  {
   "cell_type": "code",
   "execution_count": 127,
   "metadata": {},
   "outputs": [
    {
     "name": "stdout",
     "output_type": "stream",
     "text": [
      "Proportion of shafts in sync with the specification are : 0.91924122831152\n",
      "Proportion of shafts in sync with the specification after the process is centered is : 0.9986479895136674\n"
     ]
    }
   ],
   "source": [
    "mean = 0.2508\n",
    "std = 0.0005\n",
    "l1 = 0.2500-0.0015\n",
    "l2 = 0.2500+0.0015\n",
    "print('Proportion of shafts in sync with the specification are :',(stats.norm.cdf(x=l2,loc=mean,scale=std)-stats.norm.cdf(x=l1,loc=mean,scale=std)))\n",
    "new_mean = 0.2500\n",
    "print('Proportion of shafts in sync with the specification after the process is centered is :', (stats.norm.cdf(x=l2,loc=new_mean,scale=std)-stats.norm.cdf(x=l1,loc=mean,scale=std)))"
   ]
  }
 ],
 "metadata": {
  "kernelspec": {
   "display_name": "Python 3",
   "language": "python",
   "name": "python3"
  },
  "language_info": {
   "codemirror_mode": {
    "name": "ipython",
    "version": 3
   },
   "file_extension": ".py",
   "mimetype": "text/x-python",
   "name": "python",
   "nbconvert_exporter": "python",
   "pygments_lexer": "ipython3",
   "version": "3.8.3"
  }
 },
 "nbformat": 4,
 "nbformat_minor": 4
}
